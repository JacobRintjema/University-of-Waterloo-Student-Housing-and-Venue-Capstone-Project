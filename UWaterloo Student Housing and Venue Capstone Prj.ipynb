{
    "cells": [
        {
            "metadata": {
                "collapsed": true
            },
            "cell_type": "markdown",
            "source": "# University of Waterloo Student Housing and Venue Capstone Project"
        },
        {
            "metadata": {},
            "cell_type": "markdown",
            "source": "By: Jacob Rintjema"
        },
        {
            "metadata": {},
            "cell_type": "markdown",
            "source": "Date: November 2020"
        },
        {
            "metadata": {},
            "cell_type": "markdown",
            "source": "---"
        },
        {
            "metadata": {},
            "cell_type": "markdown",
            "source": "# Introduction & Description of the Background"
        },
        {
            "metadata": {},
            "cell_type": "markdown",
            "source": "The University of Waterloo (commonly referred to as Waterloo, UW, or UWaterloo) is a public research university with a main campus in Waterloo, Ontario, Canada. The main campus is on 404 hectares (998 acres) of land adjacent to \"Uptown\" Waterloo and Waterloo Park. The university also operates three satellite campuses and four affiliated university colleges. The university offers academic programs administered by six faculties and thirteen faculty-based schools. Waterloo operates the largest post-secondary co-operative education program in the world, with over 20,000 undergraduate students enrolled in the university's co-op program. The university is a co-educational institution, with approximately 41,000 undergraduate and 6,900 postgraduate students enrolled there in 2019."
        },
        {
            "metadata": {},
            "cell_type": "markdown",
            "source": "The focus of this project is to provide housing rental and purchashing options for students on and off campus. For incoming students, (especially international level), there is always stress and difficulties involved finding housing. This service will provide affordable options that tailor towards housing near the university campus. Students will get situated easier and will be able to focus more on their studies instead. The service will leverage Four Square API data to support this."
        },
        {
            "metadata": {},
            "cell_type": "markdown",
            "source": "# Data Description"
        },
        {
            "metadata": {},
            "cell_type": "markdown",
            "source": "The project will provide:\n - Housing data from the Realtor - Canadian Real Estate API, Ex. Housing options within a 2 km range from campus.\n - Nearby venue options using the Four Square API, Ex. Shopping centres, restaurants and bars nearby.\n - Location of housing using GeoPy, Ex: Longitude and latitude coordinates of housing.\n \nStudents will be able to view housing locations as well as close by venues that are in range of the University of Waterloo campus.\n\nData Needed:\n - Realtor API Data\n - GeoPy Location Data\n - Four Square API Data\n - Waterloo Geo Boundaries"
        },
        {
            "metadata": {},
            "cell_type": "markdown",
            "source": "# Resources"
        },
        {
            "metadata": {},
            "cell_type": "markdown",
            "source": " - [Realtor API](https://rapidapi.com/apidojo/api/realtor-canadian-real-estate?endpoint=apiendpoint_b55bd49d-f8a8-4728-a397-c74a56d9d921)\n - [Four Square API](https://developer.foursquare.com)\n - [Waterloo Geo Boundaries](https://data.waterloo.ca/datasets/RMW::regional-boundaries-1/geoservice?geometry=-81.519%2C43.295%2C-79.541%2C43.644)"
        }
    ],
    "metadata": {
        "kernelspec": {
            "name": "python3",
            "display_name": "Python 3.7",
            "language": "python"
        },
        "language_info": {
            "name": "python",
            "version": "3.7.9",
            "mimetype": "text/x-python",
            "codemirror_mode": {
                "name": "ipython",
                "version": 3
            },
            "pygments_lexer": "ipython3",
            "nbconvert_exporter": "python",
            "file_extension": ".py"
        }
    },
    "nbformat": 4,
    "nbformat_minor": 1
}